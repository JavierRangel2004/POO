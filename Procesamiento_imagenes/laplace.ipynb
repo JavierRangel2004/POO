{
 "cells": [
  {
   "cell_type": "code",
   "execution_count": 2,
   "metadata": {},
   "outputs": [],
   "source": [
    "import numpy as np\n",
    "import cv2 as cv\n",
    "import matplotlib.pyplot as plt"
   ]
  },
  {
   "cell_type": "code",
   "execution_count": null,
   "metadata": {},
   "outputs": [],
   "source": [
    "np.array([[1,3,5],\n",
    "         [10,11,20],\n",
    "         [90,100,11]], dtype=np.uint8)"
   ]
  },
  {
   "cell_type": "code",
   "execution_count": null,
   "metadata": {},
   "outputs": [],
   "source": [
    "img_ruido=cv.imread(\"/env/OpenCV-images/\")"
   ]
  },
  {
   "cell_type": "code",
   "execution_count": null,
   "metadata": {},
   "outputs": [],
   "source": [
    "plt.imshow(cv.medianBlur(img_ruido, 5),\"gray\")"
   ]
  },
  {
   "cell_type": "code",
   "execution_count": null,
   "metadata": {},
   "outputs": [],
   "source": [
    "img.flatten()"
   ]
  },
  {
   "cell_type": "code",
   "execution_count": null,
   "metadata": {},
   "outputs": [],
   "source": [
    "img.sort()\n",
    "img.flatten()"
   ]
  },
  {
   "cell_type": "markdown",
   "metadata": {},
   "source": [
    "morfologia tambien existe en matematicas \n",
    "en imagenes se utiliza para la deteccion de bordes y en la esqueletizacion , reducir a su minimo un objeto \n",
    "cuando se apliquen a imagenes, no es tan directo\n",
    "hacen uso de una pequeña matriz, aqui se llama elemento estructurante en vez de kernel \n",
    "es importante determinar el fondo y el primer plano\n",
    "\n",
    "elementos estructurantes\n",
    "los elementos estructurantes tienen elementos dont care que quiere decir que no se toman en cuenta\n",
    "matrices cuadradas impar \n",
    "es parecido a un filtro de convolucion \n",
    "se puede rotar 180º\n",
    "\n",
    "erosion y dilatacion\n",
    "operaciones principales, son las primitivas \n",
    "\n",
    "erosion\n",
    "se puede denotar como un mas encerrado en un circulo \n",
    "regresa una imagen binaria \n",
    "lo que se puede lograr con una erosion es reducir o encoger a la imagen, a los pixeles que estan afuera, que comparten frontera con el background \n",
    "no importa si es par o no \n",
    "mas grande, mas sers su efecto \n",
    "se puede apilar filtrados. a veces es mejor hacerlo varias veces con un elemento estructurante mas pequeño que una vez con uno mas grande\n"
   ]
  },
  {
   "cell_type": "code",
   "execution_count": 5,
   "metadata": {},
   "outputs": [
    {
     "name": "stderr",
     "output_type": "stream",
     "text": [
      "[ WARN:0@53.065] global loadsave.cpp:248 findDecoder imread_('../env/OpenCV-images/squirrel_cls.jpg'): can't open/read file: check file path/integrity\n"
     ]
    }
   ],
   "source": [
    "ardilla= cv.imread(\"../env/OpenCV-images/squirrel_cls.jpg\")\n",
    "route=\"../env/OpenCV-images/squirrel_cls.jpg\""
   ]
  },
  {
   "cell_type": "code",
   "execution_count": null,
   "metadata": {},
   "outputs": [],
   "source": []
  }
 ],
 "metadata": {
  "kernelspec": {
   "display_name": "Python 3",
   "language": "python",
   "name": "python3"
  },
  "language_info": {
   "codemirror_mode": {
    "name": "ipython",
    "version": 3
   },
   "file_extension": ".py",
   "mimetype": "text/x-python",
   "name": "python",
   "nbconvert_exporter": "python",
   "pygments_lexer": "ipython3",
   "version": "3.11.3"
  }
 },
 "nbformat": 4,
 "nbformat_minor": 2
}
