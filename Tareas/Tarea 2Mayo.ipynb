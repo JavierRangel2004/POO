{
 "cells": [
  {
   "cell_type": "code",
   "execution_count": null,
   "metadata": {},
   "outputs": [],
   "source": [
    "#Instrucciones\n",
    "#Debemos modificar el codigo de manera que podamos adaptaro al paradigma orientado a objetos. Para ello es necesario hacer lo siguiente\n",
    "#Crear una clase llamada Clima\n",
    "#El constuctor de la clase clima recibe como parametor el API KEY que consiguieron en la pagina de openweather.\n",
    "#Atributos (todos los atributos deben de ser privados)\n",
    "'''\n",
    "mapa -> un mapa de folium\n",
    "apikey -> el API key que se recibe como argumento en el constructor\n",
    "'''\n",
    "#Metodos\n",
    "'''\n",
    "mapear\n",
    "Es la funcion que se hizo la clase pasada. Recibe un nombre y lo dibuja en el mapa\n",
    "Debemos hacer cambios para que los marcadores se hagan en el mapa que se crea al momento de instanciar\n",
    "un objeto de la clase \"clima\"\n",
    "mostrarMapa\n",
    "Devuelve el mapa que se crea al momento de instanciar\n",
    "un objeto de la clase \"clima\"\n",
    "limpiarMapa\n",
    "Limpia el mapa sobre el que se han hecho puesto marcadores, devolviendo un mapa nuevo\n",
    "'''\n",
    "import folium\n",
    "import requests\n",
    "from geopy.geocoders import Nominatim\n",
    "\n",
    "class Clima:\n",
    "    def __init__(self,apikey):\n",
    "        self.__mapa = folium.Map()\n",
    "        self.__apikey = apikey\n",
    "    def mapear(self, nombre):\n",
    "        geolocator = Nominatim(user_agent=\"Tarea 2\")\n",
    "        location = geolocator.geocode(nombre)\n",
    "        lat = location.latitude\n",
    "        lon = location.longitude\n",
    "        url = \"http://api.openweathermap.org/data/2.5/weather?lat={}&lon={}&appid={}\".format(lat,lon,self.__apikey)\n",
    "        response = requests.get(url)\n",
    "        data = response.json()\n",
    "        temp = data[\"main\"][\"temp\"]-273.15\n",
    "        temp = round(temp,2)\n",
    "        popup = \"Temperatura: {}°C\".format(temp)\n",
    "        folium.Marker([lat,lon],popup=popup).add_to(self.__mapa)\n",
    "    def mostrarMapa(self):\n",
    "        return self.__mapa\n",
    "    def limpiarMapa(self):\n",
    "        self.__mapa = folium.Map()\n",
    "        return self.__mapa"
   ]
  },
  {
   "cell_type": "code",
   "execution_count": null,
   "metadata": {},
   "outputs": [],
   "source": [
    "clima = Clima(\"925bc67b57d1fd308b441c7b8b1d4052\")\n",
    "clima.mapear(\"Guadalajara\")\n",
    "clima.mapear(\"Francia\")\n",
    "clima.mapear(\"Alemania\")\n",
    "clima.mapear(\"España\")\n",
    "clima.mapear(\"Italia\")\n",
    "clima.mostrarMapa()\n"
   ]
  }
 ],
 "metadata": {
  "kernelspec": {
   "display_name": "Python 3",
   "language": "python",
   "name": "python3"
  },
  "language_info": {
   "codemirror_mode": {
    "name": "ipython",
    "version": 3
   },
   "file_extension": ".py",
   "mimetype": "text/x-python",
   "name": "python",
   "nbconvert_exporter": "python",
   "pygments_lexer": "ipython3",
   "version": "3.10.9"
  },
  "orig_nbformat": 4,
  "vscode": {
   "interpreter": {
    "hash": "afb734500600fd355917ca529030176ea0ca205570884b88f2f6f7d791fd3fbe"
   }
  }
 },
 "nbformat": 4,
 "nbformat_minor": 2
}
