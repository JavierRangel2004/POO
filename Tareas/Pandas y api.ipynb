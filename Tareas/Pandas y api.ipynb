{
 "cells": [
  {
   "attachments": {},
   "cell_type": "markdown",
   "metadata": {},
   "source": []
  },
  {
   "cell_type": "code",
   "execution_count": null,
   "metadata": {},
   "outputs": [],
   "source": [
    "\n",
    "class hpApi():\n",
    "    def __init__(self):\n",
    "        self.url_base='https://hp-api.onrender.com/api'\n",
    "    def personajes(self):\n",
    "        import requests\n",
    "        import pandas as pd\n",
    "        url=self.url_base+'/characters'\n",
    "        r=requests.get(url)\n",
    "        return pd.DataFrame(r.json())\n",
    "    def hechizos(self):\n",
    "        import requests\n",
    "        import pandas as pd\n",
    "        url=self.url_base+'/spells'\n",
    "        r=requests.get(url)\n",
    "        return pd.DataFrame(r.json())\n",
    "    def personaje_por_casa(self):\n",
    "        import requests\n",
    "        import pandas as pd\n",
    "        url=self.url_base+'/characters/house'\n",
    "        r=pd.DataFrame(requests.get(url).json())\n",
    "        return r"
   ]
  },
  {
   "cell_type": "code",
   "execution_count": null,
   "metadata": {},
   "outputs": [],
   "source": [
    "Data=hpApi()\n",
    "#Data.personajes()\n",
    "#Data.hechizos()\n",
    "Data.personaje_por_casa()"
   ]
  }
 ],
 "metadata": {
  "kernelspec": {
   "display_name": "Python 3",
   "language": "python",
   "name": "python3"
  },
  "language_info": {
   "codemirror_mode": {
    "name": "ipython",
    "version": 3
   },
   "file_extension": ".py",
   "mimetype": "text/x-python",
   "name": "python",
   "nbconvert_exporter": "python",
   "pygments_lexer": "ipython3",
   "version": "3.11.2"
  },
  "orig_nbformat": 4
 },
 "nbformat": 4,
 "nbformat_minor": 2
}
