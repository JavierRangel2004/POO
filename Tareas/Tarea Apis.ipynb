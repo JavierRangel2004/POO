{
 "cells": [
  {
   "cell_type": "code",
   "execution_count": 3,
   "metadata": {},
   "outputs": [],
   "source": [
    "import pandas as pd\n",
    "import requests\n",
    "class hpApi:\n",
    "    def __init__(self):\n",
    "        self.URL = \"https://hp-api.onrender.com/api/\"\n",
    "    def personajes(self):\n",
    "        return pd.DataFrame(requests.get(self.URL+\"characters\").json())\n",
    "    def spells(self):\n",
    "        return pd.DataFrame(requests.get(self.URL+\"spells\").json())\n",
    "    def personajes_por_casa(self):\n",
    "        return self.personajes()[\"house\"].value_counts()\n",
    "    def personajes_por_genero(self):\n",
    "        return self.personajes()[\"gender\"].value_counts()\n",
    "    def ancestry(self):\n",
    "        return self.personajes()[\"ancestry\"].value_counts()\n",
    "    def vivo_muerto(self, vivo):\n",
    "        if vivo:\n",
    "            return self.personajes()[self.personajes()[\"alive\"] == True]\n",
    "        else:\n",
    "            return self.personajes()[self.personajes()[\"alive\"] == False]\n",
    "    def filtr_casa(self, casa):\n",
    "        try:\n",
    "            return pd.DataFrame(requests.get(self.URL+\"characters/house/\"+casa).json())\n",
    "        except:\n",
    "            print(\"Casa no encontrada\")"
   ]
  },
  {
   "cell_type": "code",
   "execution_count": null,
   "metadata": {},
   "outputs": [],
   "source": [
    "Harry=hpApi()\n",
    "Harry.personajes()"
   ]
  },
  {
   "cell_type": "code",
   "execution_count": null,
   "metadata": {},
   "outputs": [],
   "source": [
    "Harry.spells()"
   ]
  },
  {
   "cell_type": "code",
   "execution_count": null,
   "metadata": {},
   "outputs": [],
   "source": [
    "Harry.personajes_por_casa()"
   ]
  },
  {
   "cell_type": "code",
   "execution_count": null,
   "metadata": {},
   "outputs": [],
   "source": [
    "Harry.personajes_por_genero()"
   ]
  },
  {
   "cell_type": "code",
   "execution_count": null,
   "metadata": {},
   "outputs": [],
   "source": [
    "Harry.ancestry()"
   ]
  },
  {
   "cell_type": "code",
   "execution_count": null,
   "metadata": {},
   "outputs": [],
   "source": [
    "Harry.vivo_muerto(True)"
   ]
  },
  {
   "cell_type": "code",
   "execution_count": null,
   "metadata": {},
   "outputs": [],
   "source": [
    "Harry.filtr_casa(\"Gryffindor\")"
   ]
  }
 ],
 "metadata": {
  "kernelspec": {
   "display_name": "Python 3",
   "language": "python",
   "name": "python3"
  },
  "language_info": {
   "codemirror_mode": {
    "name": "ipython",
    "version": 3
   },
   "file_extension": ".py",
   "mimetype": "text/x-python",
   "name": "python",
   "nbconvert_exporter": "python",
   "pygments_lexer": "ipython3",
   "version": "3.10.11"
  },
  "orig_nbformat": 4,
  "vscode": {
   "interpreter": {
    "hash": "3c4c3605c663f9aa2466f66d98c5640ecfc66803b1b21d1811c234f38aaa1f2a"
   }
  }
 },
 "nbformat": 4,
 "nbformat_minor": 2
}
