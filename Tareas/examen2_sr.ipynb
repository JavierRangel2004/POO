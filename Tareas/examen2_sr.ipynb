{
 "cells": [
  {
   "cell_type": "code",
   "execution_count": 41,
   "metadata": {},
   "outputs": [],
   "source": [
    "#Importar librerias y el set de datos que bajaron de Moodle (carpetas_2022.csv)\n",
    "import pandas as pd\n",
    "df=pd.read_csv('carpetas_2022.csv')"
   ]
  },
  {
   "cell_type": "code",
   "execution_count": 42,
   "metadata": {},
   "outputs": [
    {
     "data": {
      "text/plain": [
       "(258973, 20)"
      ]
     },
     "execution_count": 42,
     "metadata": {},
     "output_type": "execute_result"
    }
   ],
   "source": [
    "#Cuantas filas y columnas tiene el set de datos?\n",
    "df.shape"
   ]
  },
  {
   "cell_type": "code",
   "execution_count": 43,
   "metadata": {},
   "outputs": [
    {
     "data": {
      "text/plain": [
       "ao_hechos                   62\n",
       "mes_hechos                  62\n",
       "fecha_hechos                62\n",
       "hora_hechos                 62\n",
       "ao_inicio                    0\n",
       "mes_inicio                   0\n",
       "fecha_inicio                 0\n",
       "hora_inicio                  0\n",
       "delito                       0\n",
       "fiscalia                     0\n",
       "agencia                      0\n",
       "unidad_investigacion       279\n",
       "categoria_delito             0\n",
       "competencia                  0\n",
       "alcaldia_hechos              0\n",
       "municipio_hechos        256371\n",
       "colonia_datos            15721\n",
       "fgj_colonia_registro     14758\n",
       "longitud                     0\n",
       "latitud                      0\n",
       "dtype: int64"
      ]
     },
     "execution_count": 43,
     "metadata": {},
     "output_type": "execute_result"
    }
   ],
   "source": [
    "#Hay columnas con valores nulos?\n",
    "df.isnull().sum()"
   ]
  },
  {
   "cell_type": "code",
   "execution_count": 44,
   "metadata": {},
   "outputs": [],
   "source": [
    "#NO TOCAR ESTA LINEA. ES PARA ELIMINAR VALORES NULOS EN UNA COLUMNA QUE USAREMOS ADELANTE\n",
    "#Llamen df a su dataframe, de lo contrario no va a jalar\n",
    "#Dropear REGISTROS que tengan \"ao_hechos\" nulo\n",
    "df.dropna(subset=['ao_hechos'], inplace=True)\n"
   ]
  },
  {
   "cell_type": "code",
   "execution_count": 45,
   "metadata": {},
   "outputs": [
    {
     "data": {
      "text/plain": [
       "ao_hechos                    0\n",
       "mes_hechos                   0\n",
       "fecha_hechos                 0\n",
       "hora_hechos                  0\n",
       "ao_inicio                    0\n",
       "mes_inicio                   0\n",
       "fecha_inicio                 0\n",
       "hora_inicio                  0\n",
       "delito                       0\n",
       "fiscalia                     0\n",
       "agencia                      0\n",
       "unidad_investigacion       279\n",
       "categoria_delito             0\n",
       "competencia                  0\n",
       "alcaldia_hechos              0\n",
       "municipio_hechos        256310\n",
       "colonia_datos            15705\n",
       "fgj_colonia_registro     14742\n",
       "longitud                     0\n",
       "latitud                      0\n",
       "dtype: int64"
      ]
     },
     "execution_count": 45,
     "metadata": {},
     "output_type": "execute_result"
    }
   ],
   "source": [
    "#verificar que ya no existan registros nulos para \"ao_hechos\"\n",
    "df.isnull().sum()"
   ]
  },
  {
   "cell_type": "code",
   "execution_count": 46,
   "metadata": {},
   "outputs": [
    {
     "data": {
      "text/plain": [
       "array(['ROBO A TRANSEUNTE EN VIA PUBLICA CON VIOLENCIA',\n",
       "       'ABUSO DE CONFIANZA', 'LESIONES INTENCIONALES POR ARMA DE FUEGO',\n",
       "       'DAÑO EN PROPIEDAD AJENA CULPOSA POR TRÁNSITO VEHICULAR A AUTOMOVIL',\n",
       "       'VIOLENCIA FAMILIAR',\n",
       "       'DAÑO EN PROPIEDAD AJENA INTENCIONAL A AUTOMOVIL',\n",
       "       'TRAFICO DE INFLUENCIA', 'LA ADMINISTRACION DE JUSTICIA',\n",
       "       'LESIONES CULPOSAS POR TRANSITO VEHICULAR EN COLISION', 'FRAUDE',\n",
       "       'DESOBEDIENCIA Y RESISTENCIA DE PARTICULARES', 'AMENAZAS',\n",
       "       'ABUSO DE AUTORIDAD Y USO ILEGAL DE LA FUERZA PUBLICA', 'DESPOJO',\n",
       "       'ROBO A NEGOCIO SIN VIOLENCIA',\n",
       "       'LESIONES INTENCIONALES POR GOLPES',\n",
       "       'PERDIDA DE LA VIDA POR OTRAS CAUSAS',\n",
       "       'HOMICIDIO CULPOSO POR TRÁNSITO VEHICULAR (CAIDA)', 'ABUSO SEXUAL',\n",
       "       'HOMICIDIO POR ARMA BLANCA', 'TENTATIVA DE FEMINICIDIO',\n",
       "       'DAÑO EN PROPIEDAD AJENA INTENCIONAL A BIENES INMUEBLES',\n",
       "       'PERDIDA DE LA VIDA POR PRECIPITACION',\n",
       "       'ROBO DE VEHICULO DE SERVICIO PARTICULAR CON VIOLENCIA',\n",
       "       'ROBO A CASA HABITACION SIN VIOLENCIA',\n",
       "       'ROBO DE ACCESORIOS DE AUTO', 'VIOLACION EQUIPARADA',\n",
       "       'FALSIFICACION O ALTERACION Y USO INDEBIDO DE DOCUMENTOS',\n",
       "       'DAÑO EN PROPIEDAD AJENA CULPOSA', 'LESIONES CULPOSAS POR CAIDA',\n",
       "       'DAÑO SUELO (ACTIVIDAD, INVASIÓN O EXTRACCIÓN)',\n",
       "       'PERDIDA DE LA VIDA POR SUICIDIO',\n",
       "       'ROBO A NEGOCIO SIN VIOLENCIA POR FARDEROS (TIENDAS DE CONVENIENCIA)',\n",
       "       'ROBO A NEGOCIO CON VIOLENCIA', 'ROBO A REPARTIDOR CON VIOLENCIA',\n",
       "       'DAÑO EN PROPIEDAD AJENA INTENCIONAL',\n",
       "       'PORTACION DE ARMA DE FUEGO',\n",
       "       'ROBO A PASAJERO / CONDUCTOR DE VEHICULO CON VIOLENCIA',\n",
       "       'EJERCICIO ILEGAL Y ABANDONO DEL SERVICIO PUBLICO',\n",
       "       'SUSTRACCIÓN DE MENORES',\n",
       "       'ROBO A NEGOCIO SIN VIOLENCIA POR FARDEROS (TIENDAS DE AUTOSERVICIO)',\n",
       "       'LESIONES INTENCIONALES POR ARMA BLANCA',\n",
       "       'ROBO DE OBJETOS A ESCUELA',\n",
       "       'PRODUCCIÓN, IMPRESIÓN, ENAJENACIÓN, DISTRIBUCIÓN, ALTERACIÓN O FALSIFICACIÓN DE TÍTULOS AL PORTADOR, DOCUMENTOS DE CRÉDITO PÚBLICOS O VALES DE CANJE',\n",
       "       'NEGACION DEL SERVICIO PUBLICO', 'ACOSO SEXUAL',\n",
       "       'USURPACIÓN DE IDENTIDAD',\n",
       "       'ROBO DE VEHICULO DE SERVICIO PARTICULAR SIN VIOLENCIA',\n",
       "       'DISCRIMINACION', 'COBRANZA ILEGITIMA', 'EXTORSION',\n",
       "       'ROBO DE OBJETOS', 'ROBO DE PLACA DE AUTOMOVIL',\n",
       "       'ROBO DE MOTOCICLETA SIN VIOLENCIA', 'ROBO DE VEHICULO DE PEDALES',\n",
       "       'ROBO A NEGOCIO SIN VIOLENCIA POR FARDEROS',\n",
       "       'NARCOMENUDEO POSESION SIMPLE', 'PERSONAS EXTRAVIADAS Y AUSENTES',\n",
       "       'DAÑO EN PROPIEDAD AJENA CULPOSA POR TRÁNSITO VEHICULAR A BIENES INMUEBLES',\n",
       "       'ROBO DE OBJETOS DEL INTERIOR DE UN VEHICULO', 'DDH FRVT',\n",
       "       'LESIONES CULPOSAS', 'USURPACION DE PROFESION', 'DDH RELACIONADAS',\n",
       "       'ENCUBRIMIENTO POR FAVORECIMIENTO',\n",
       "       'ROBO A PASAJERO A BORDO DE PESERO COLECTIVO CON VIOLENCIA',\n",
       "       'RETENCIÓN DE MENORES', 'DDH SIN DATOS',\n",
       "       'ATAQUE A LAS VIAS GENERALES DE COMUNICACIÓN',\n",
       "       'LESIONES INTENCIONALES',\n",
       "       'LESIONES CULPOSAS POR TRANSITO VEHICULAR',\n",
       "       'OMISION DE AUXILIO O DE CUIDADO',\n",
       "       'DAÑO EN PROPIEDAD AJENA INTENCIONAL A NEGOCIO',\n",
       "       'CORRUPCIÓN DE PERSONAS MENORES DE EDAD O PERSONAS QUE NO TENGAN CAPACIDAD PARA COMPRENDER EL SIGNIFICADO DEL HECHO O DE PERSONAS QUE NO TENGAN CAPACIDAD DE RESISTIR LA CONDUCTA',\n",
       "       'PERDIDA DE LA VIDA POR CAIDA',\n",
       "       'DAÑO EN PROPIEDAD AJENA INTENCIONAL A CASA HABITACION',\n",
       "       'ROBO A TRANSEUNTE EN PARQUES Y MERCADOS CON VIOLENCIA',\n",
       "       'ROBO DE VEHICULO DE SERVICIO PÚBLICO SIN VIOLENCIA', 'VIOLACION',\n",
       "       'CONTRA LA INTIMIDAD SEXUAL',\n",
       "       'ROBO A TRANSEUNTE EN VIA PUBLICA SIN VIOLENCIA',\n",
       "       'MALTRATO ANIMAL', 'TENTATIVA DE EXTORSION',\n",
       "       'ROBO A TRANSEUNTE EN NEGOCIO CON VIOLENCIA',\n",
       "       'DAÑO EN PROPIEDAD AJENA INTENCIONAL A VIAS DE COMUNICACION',\n",
       "       'ROBO A CASA HABITACION CON VIOLENCIA',\n",
       "       'ROBO A TRANSEUNTE A BORDO DE TAXI PUBLICO Y PRIVADO SIN VIOLENCIA',\n",
       "       'HOMICIDIO CULPOSO POR TRÁNSITO VEHICULAR (COLISION)',\n",
       "       'ROBO A PASAJERO A BORDO DE METRO SIN VIOLENCIA',\n",
       "       'ALLANAMIENTO DE MORADA, DESPACHO, OFICINA O ESTABLECIMIENTO MERCANTIL',\n",
       "       'PERDIDA DE LA VIDA POR ENFERMEDAD',\n",
       "       'PRIVACION DE LA LIBERTAD PERSONAL', 'FALSEDAD ANTE AUTORIDADES',\n",
       "       'TENTATIVA DE HOMICIDIO',\n",
       "       'ROBO S/V DENTRO DE NEGOCIOS, AUTOSERVICIOS, CONVENIENCIA',\n",
       "       'DISPAROS DE ARMA DE FUEGO', 'TORTURA',\n",
       "       'ROBO DE CONTENEDORES DE TRAILERS S/V',\n",
       "       'HOMICIDIO CULPOSO CON EXCLUYENTES DE RESPONSABILIDAD',\n",
       "       'ROBO DE DOCUMENTOS',\n",
       "       'ROBO A PASAJERO A BORDO DE PESERO COLECTIVO SIN VIOLENCIA',\n",
       "       'RESPONSABILIDAD PROFESIONAL Y TECNICA',\n",
       "       'ROBO A PASAJERO A BORDO DE METROBUS SIN VIOLENCIA',\n",
       "       'HOMICIDIO POR ARMA DE FUEGO', 'ROBO DE DINERO',\n",
       "       'USO DE DOCUMENTO FALSO',\n",
       "       'ROBO A TRANSEUNTE CONDUCTOR DE TAXI PUBLICO Y PRIVADO CON VIOLENCIA',\n",
       "       'ROBO A PASAJERO EN RTP CON VIOLENCIA',\n",
       "       'ROBO DE MOTOCICLETA CON VIOLENCIA',\n",
       "       'ROBO A PASAJERO EN TROLEBUS SIN VIOLENCIA',\n",
       "       'HOMICIDIO POR GOLPES',\n",
       "       'ROBO A TRANSEUNTE SALIENDO DEL BANCO CON VIOLENCIA',\n",
       "       'CONTRA EL CUMPLIMIENTO DE LA OBLIGACION ALIMENTARIA',\n",
       "       'ROBO DE VEHICULO DE SERVICIO PÚBLICO CON VIOLENCIA',\n",
       "       'NARCOMENUDEO POSESIÓN CON FINES DE VENTA, COMERCIO Y SUMINISTRO',\n",
       "       'DELITOS DE ABOGADOS, PATRONOS, LITIGANTES Y ASESORES JURIDICOS',\n",
       "       'QUEBRANTAMIENTO DE SELLOS', 'DDH ANONIMAS', 'DDH OTRAS MATERIAS',\n",
       "       'ROBO A PASAJERO A BORDO DE TRANSPORTE PÚBLICO CON VIOLENCIA',\n",
       "       'PERDIDA DE LA VIDA POR PARO CARDIACO', 'COHECHO', 'ENCUBRIMIENTO',\n",
       "       'ROBO A PASAJERO EN TREN LIGERO SIN VIOLENCIA',\n",
       "       'ROBO A PASAJERO A BORDO DE TRANSPORTE PÚBLICO SIN VIOLENCIA',\n",
       "       'DESOBEDENCIA DE PARTICULARES', 'ROBO DE ARMA',\n",
       "       'DELITOS ELECTORALES', 'ROBO A TRANSEUNTE EN HOTEL CON VIOLENCIA',\n",
       "       'DELITOS AMBIENTALES', 'ROBO DE FLUIDOS',\n",
       "       'ATAQUE A LAS VIAS DE COMUNICACION (DAÑO A VIAS O MEDIOS DE TRANSPORTE)',\n",
       "       'LESIONES CULPOSAS POR QUEMADURAS',\n",
       "       'ROBO A TRANSEUNTE EN RESTAURANT CON VIOLENCIA',\n",
       "       'REVELACION DE SECRETOS', 'CONTAMINACIÓN O RESIDUOS', 'DDH FDS',\n",
       "       'TALA', 'ROBO A REPARTIDOR Y VEHICULO CON VIOLENCIA',\n",
       "       'LESIONES CULPOSAS ACCIDENTE LABORAL',\n",
       "       'PERDIDA DE LA VIDA ASFIXIA POR ALIMENTOS/ LIQUIDOS',\n",
       "       'ROBO A TRANSEUNTE A BORDO DE TAXI PÚBLICO Y PRIVADO CON VIOLENCIA',\n",
       "       'DAÑO EN PROPIEDAD AJENA CULPOSA POR TRÁNSITO VEHICULAR A VIAS DE COMUNICACION',\n",
       "       'PERDIDA DE LA VIDA POR QUEMADURA',\n",
       "       'SECUESTRO EXPRESS (PARA COMETER ROBO O EXTORSIÓN)',\n",
       "       'ROBO A REPARTIDOR SIN VIOLENCIA',\n",
       "       'OPOSICION A QUE SE EJECUTE ALGUNA OBRA O TRABAJO PUBLICOS',\n",
       "       'PORNOGRAFÍA',\n",
       "       'ROBO A TRANSEUNTE SALIENDO DEL CAJERO CON VIOLENCIA',\n",
       "       'ROBO A LOCALES SEMIFIJOS (PUESTOS DE ALIMENTOS,BEBIDAS, ENSERES, PERIODICOS,LOTERIA, OTROS)',\n",
       "       'TENTATIVA DE ROBO', 'USURPACION DE FUNCIONES PUBLICAS',\n",
       "       'PLAGIO O SECUESTRO',\n",
       "       'PORTACIÓN, FABRICACIÓN E IMPORTACIÓN DE OBJETOS APTOS PARA AGREDIR',\n",
       "       'OPERACIONES CON RECURSOS DE PROCEDENCIA ILICITA',\n",
       "       'ROBO DE ALHAJAS', 'ABORTO', 'TRATA DE PERSONAS',\n",
       "       'USO INDEBIDO DE ATRIBUCIONES Y FACULTADES', 'ROBO DE ANIMALES',\n",
       "       'LESIONES CULPOSAS POR CAIDA DE VEHÍCULO EN MOVIMIENTO',\n",
       "       'FEMINICIDIO', 'ROBO A TRANSEUNTE DE CELULAR SIN VIOLENCIA',\n",
       "       'ROBO DE MERCANCIA EN CONTENEDEROS EN ÁREAS FEDERALES',\n",
       "       'ROBO A PASAJERO EN AUTOBUS FORANEO SIN VIOLENCIA',\n",
       "       'HOMICIDIO CULPOSO POR TRÁNSITO VEHICULAR (ATROPELLADO)',\n",
       "       'LESIONES CULPOSAS CON EXCLUYENTES DE RESPONSABILIDAD',\n",
       "       'PRIV. ILEGAL DE LA LIB. Y ROBO DE VEHICULO',\n",
       "       'ROBO A PASAJERO EN RTP SIN VIOLENCIA', 'DDH CERESO',\n",
       "       'ROBO A PASAJERO A BORDO DE METROBUS CON VIOLENCIA', 'ESTUPRO',\n",
       "       'ROBO A PASAJERO EN ECOBUS CON VIOLENCIA',\n",
       "       'TENTATIVA DE ROBO DE VEHICULO',\n",
       "       'ROBO A CASA HABITACION Y VEHICULO CON VIOLENCIA',\n",
       "       'ROBO DE VEHICULO EN PENSION, TALLER Y AGENCIAS S/V',\n",
       "       'ROBO A SUCURSAL BANCARIA DENTRO DE  TIENDAS DE AUTOSERVICIO CON VIOLENCIA',\n",
       "       'ROBO A OFICINA PÚBLICA SIN VIOLENCIA',\n",
       "       'ROBO EN EVENTOS MASIVOS (DEPORTIVOS, CULTURALES, RELIGIOSOS Y ARTISTICOS) S/V',\n",
       "       'ROBO A CASA HABITACION Y VEHICULO SIN VIOLENCIA',\n",
       "       'PERDIDA DE LA VIDA POR INTOXICACION', 'GESTIÓN AMBIENTAL',\n",
       "       'ROBO A PASAJERO A BORDO DE METRO CON VIOLENCIA',\n",
       "       'ROBO A NEGOCIO CON VIOLENCIA POR FARDEROS (TIENDAS DE AUTOSERVICIO)',\n",
       "       'ROBO A TRANSPORTISTA Y VEHICULO PESADO CON VIOLENCIA',\n",
       "       'ROBO DE VEHICULO DE SERVICIO DE TRANSPORTE SIN VIOLENCIA',\n",
       "       'TENTATIVA DE FRAUDE',\n",
       "       'ROBO A PASAJERO EN AUTOBÚS FORÁNEO CON VIOLENCIA',\n",
       "       'PERDIDA DE LA VIDA POR ASFIXIA',\n",
       "       'VIOLACION TUMULTUARIA EQUIPARADA',\n",
       "       'FEMINICIDIO POR DISPARO DE ARMA DE FUEGO',\n",
       "       'VIOLACION TUMULTUARIA', 'CAMBIO DE USO DE SUELO',\n",
       "       'HOMICIDIO CULPOSO POR TRÁNSITO VEHICULAR',\n",
       "       'ACOSO SEXUAL AGRAVADO EN CONTRA DE MENORES',\n",
       "       'ROBO DE VEHICULO DE SERVICIO OFICIAL SIN VIOLENCIA',\n",
       "       'ROBO A PASAJERO EN TROLEBUS CON VIOLENCIA', 'DDH REDES',\n",
       "       'VIOLACION DE CORRESPONDENCIA',\n",
       "       'PRIVACION DE LA LIBERTAD PERSONAL (REALIZAR ACTO SEXUAL)',\n",
       "       'TENTATIVA DE VIOLACION',\n",
       "       'ROBO A TRANSEUNTE DE CELULAR CON VIOLENCIA',\n",
       "       'INHUMACION, EXHUMACION Y RESPETO A LOS CADAVERES O RESTOS HUMANOS',\n",
       "       'VIOLACION EQUIPARADA POR CONOCIDO',\n",
       "       'CONTRA FUNCIONARIOS PUBLICOS',\n",
       "       'ROBO DE MERCANCIA A TRANSPORTISTA C/V', 'TENTATIVA DE SUICIDIO',\n",
       "       'PERDIDA DE LA VIDA POR ACCIDENTE LABORAL',\n",
       "       'DDH OFICIO COLABORACION',\n",
       "       'ROBO A PASAJERO EN ECOBUS SIN VIOLENCIA',\n",
       "       'ENRIQUECIMIENTO ILICITO', 'ROBO DE MAQUINARIA CON VIOLENCIA',\n",
       "       'HOMICIDIOS INTENCIONALES (OTROS)',\n",
       "       'PANDILLA, ASOCIACIÓN DELICTUOSA Y DELINCUENCIA ORGANIZADA',\n",
       "       'PERDIDA DE LA VIDA POR SUICIDIO EN EL METRO',\n",
       "       'PELIGRO DE CONTAGIO', 'INTIMIDACION',\n",
       "       'LESIONES DOLOSAS POR QUEMADURAS',\n",
       "       'ROBO A NEGOCIO Y VEHICULO SIN VIOLENCIA',\n",
       "       'UTILIZACION INDEBIDA DE LA VIA PUBLICA',\n",
       "       'HOMICIDIO CULPOSO POR ARMA DE FUEGO', 'REGULACIÓN URBANA',\n",
       "       'CONTRA EL ESTADO CIVIL', 'INJURIAS',\n",
       "       'ROBO A NEGOCIO CON VIOLENCIA POR FARDEROS (TIENDAS DE CONVENIENCIA)',\n",
       "       'ROBO A PASAJERO EN TREN SUBURBANO SIN VIOLENCIA',\n",
       "       'ROBO A SUCURSAL BANCARIA CON VIOLENCIA',\n",
       "       'ROBO A PASAJERO EN TREN SUBURBANO CON VIOLENCIA',\n",
       "       'ROBO DE VEHICULO ELECTRICO MOTOPATIN',\n",
       "       'CONTRA LA LEY FEDERAL DE POBLACION',\n",
       "       'HOMICIDIO CULPOSO FUERA DEL D.F (ATROPELLADO)',\n",
       "       'PERDIDA DE LA VIDA POR AHOGAMIENTO', 'BIGAMIA', 'PECULADO',\n",
       "       'ROBO A SUCURSAL BANCARIA SIN VIOLENCIA',\n",
       "       'FEMINICIDIO POR ARMA BLANCA', 'SABOTAJE',\n",
       "       'FALSIFICACIÓN DE SELLOS, MARCAS, LLAVES, CUÑOS, TROQUELES, CONTRASEÑAS Y OTROS',\n",
       "       'PERDIDA DE LA VIDA POR DERRUMBE',\n",
       "       'ROBO DE VEHICULO DE SERVICIO DE TRANSPORTE CON VIOLENCIA',\n",
       "       'ROBO A OFICINA PÚBLICA CON VIOLENCIA',\n",
       "       'VARIACION DE NOMBRE O DOMICILIO',\n",
       "       'DESAPARICION FORZADA DE PERSONAS',\n",
       "       'COALICIÓN DE SERVIDORES PÚBLICOS',\n",
       "       'HOMICIDIO CULPOSO FUERA DEL D.F (COLISION)', 'EVASION DE PRESOS',\n",
       "       'ROBO A PASAJERO A BORDO DE CABLEBUS SIN VIOLENCIA',\n",
       "       'HOMICIDIO POR INMERSION', 'ATAQUES A LA PAZ PUBLICA',\n",
       "       'ROBO A PASAJERO A BORDO DE CABLEBUS CON VIOLENCIA',\n",
       "       'EJERCICIO INDEBIDO DEL PROPIO DER.',\n",
       "       'FABRICACION, COMERCIALIZACION Y USO INDEBIDO DE INSIGNIAS Y UNIFORMES',\n",
       "       'ROBO A REPARTIDOR Y VEHICULO SIN VIOLENCIA',\n",
       "       'PERDIDA DE LA VIDA POR CONGESTION ALCOHOLICA',\n",
       "       'ROBO A SUCURSAL BANCARIA DENTRO DE  TIENDAS DE AUTOSERVICIO S/V',\n",
       "       'OTROS AMBIENTALES',\n",
       "       'ROBO DURANTE TRASLADO DE VALORES (NOMINA) SIN VIOLENCIA',\n",
       "       'CONCUSION', 'ROBO DE VEHICULO DE SERVICIO OFICIAL CON VIOLENCIA',\n",
       "       'VIOLACION TUMULTUARIA EQUIPARADA POR CONOCIDO',\n",
       "       'EXPOSICION DE MENORES',\n",
       "       'ROBO DE VEHICULO EN PENSION, TALLER Y AGENCIAS C/V',\n",
       "       'ROBO A TRANSEUNTE EN VIA PUBLICA (NOMINA) CON VIOLENCIA',\n",
       "       'EXPLOTACIÓN LABORAL DE MENORES, PERSONAS CON DISCAPACIDAD FÍSICA O MENTAL Y ADULTOS MAYORES',\n",
       "       'ROBO A PASAJERO A BORDO DE PESERO Y VEHICULO CON VIOLENCIA',\n",
       "       'ROBO A NEGOCIO Y VEHICULO CON VIOLENCIA',\n",
       "       'FEMINICIDIO POR GOLPES',\n",
       "       'LESIONES INTENCIONALES Y ROBO DE VEHICULO',\n",
       "       'ROBO A TRANSPORTISTA Y VEHICULO PESADO SIN VIOLENCIA',\n",
       "       'PRIVACIÓN DE LA LIBERTAD PERSONAL  ( SI LIBERA DENTRO DE 24 HORAS)',\n",
       "       'CORRUPCION DE MENORES E INCAPACES',\n",
       "       'ROBO A PASAJERO EN TREN LIGERO CON VIOLENCIA',\n",
       "       'DELITOS CONTRA LA SALUD',\n",
       "       'VIOLACION EQUIPARADA Y ROBO DE VEHICULO',\n",
       "       'HOMICIDIO POR AHORCAMIENTO',\n",
       "       'ROBO DURANTE TRASLADO DE VALORES (NOMINA) CON VIOLENCIA',\n",
       "       'ROBO DE MAQUINARIA SIN VIOLENCIA',\n",
       "       'EJERCICIO ABUSIVO DE FUNCIONES',\n",
       "       'ROBO A TRANSEUNTE EN TERMINAL DE PASAJEROS CON VIOLENCIA',\n",
       "       'TRAFICO DE INFANTES', 'DENUNCIA DE HECHOS',\n",
       "       'POSESION DE VEHICULO ROBADO',\n",
       "       'LEY FEDERAL DE ARMAS DE FUEGO Y EXPLOSIVOS',\n",
       "       'ROBO EN INTERIOR DE EMPRESA (NOMINA) SIN VIOLENCIA',\n",
       "       'ROBO A TRANSEUNTE EN CINE CON VIOLENCIA', 'LENOCINIO',\n",
       "       'DIFAMACION', 'ENTREGA ILEGITIMA DE UN MENOR'], dtype=object)"
      ]
     },
     "execution_count": 46,
     "metadata": {},
     "output_type": "execute_result"
    }
   ],
   "source": [
    "#Cuantos tipos de delito se encuentran registrados en el set de datos (usar columna delito)\n",
    "df['delito'].unique()"
   ]
  },
  {
   "cell_type": "code",
   "execution_count": 1,
   "metadata": {},
   "outputs": [
    {
     "ename": "NameError",
     "evalue": "name 'df' is not defined",
     "output_type": "error",
     "traceback": [
      "\u001b[1;31m---------------------------------------------------------------------------\u001b[0m",
      "\u001b[1;31mNameError\u001b[0m                                 Traceback (most recent call last)",
      "Cell \u001b[1;32mIn[1], line 2\u001b[0m\n\u001b[0;32m      1\u001b[0m \u001b[39m#La alcaldia con mas delitos contando los años 2022 y 2023\u001b[39;00m\n\u001b[1;32m----> 2\u001b[0m df[\u001b[39m'\u001b[39m\u001b[39malcaldia_hechos\u001b[39m\u001b[39m'\u001b[39m]\u001b[39m.\u001b[39mvalue_counts()\u001b[39m.\u001b[39mhead(\u001b[39m1\u001b[39m)\n",
      "\u001b[1;31mNameError\u001b[0m: name 'df' is not defined"
     ]
    }
   ],
   "source": [
    "#La alcaldia con mas delitos contando los años 2022 y 2023\n",
    "df['alcaldia_hechos'].value_counts().head(1)"
   ]
  },
  {
   "cell_type": "code",
   "execution_count": 48,
   "metadata": {},
   "outputs": [
    {
     "data": {
      "text/plain": [
       "VIOLENCIA FAMILIAR    1893\n",
       "Name: delito, dtype: int64"
      ]
     },
     "execution_count": 48,
     "metadata": {},
     "output_type": "execute_result"
    }
   ],
   "source": [
    "#El delito mas frecuente en la alcaldia XOCHIMILCO (usar columna delito)\n",
    "df[df['alcaldia_hechos']=='XOCHIMILCO']['delito'].value_counts().head(1)"
   ]
  },
  {
   "cell_type": "code",
   "execution_count": 49,
   "metadata": {},
   "outputs": [
    {
     "name": "stderr",
     "output_type": "stream",
     "text": [
      "C:\\Users\\javar\\AppData\\Local\\Temp\\ipykernel_11076\\494292623.py:2: UserWarning: Boolean Series key will be reindexed to match DataFrame index.\n",
      "  df[df['ao_hechos']==2023][df['alcaldia_hechos']=='IZTAPALAPA']['colonia_datos'].value_counts().head(1)\n"
     ]
    },
    {
     "data": {
      "text/plain": [
       "PASEOS DE CHURUBUSCO    78\n",
       "Name: colonia_datos, dtype: int64"
      ]
     },
     "execution_count": 49,
     "metadata": {},
     "output_type": "execute_result"
    }
   ],
   "source": [
    "#La colonia con mas delitos de IZTAPALAPA en 2023\n",
    "df[df['ao_hechos']==2023][df['alcaldia_hechos']=='IZTAPALAPA']['colonia_datos'].value_counts().head(1)"
   ]
  },
  {
   "cell_type": "code",
   "execution_count": 50,
   "metadata": {},
   "outputs": [
    {
     "data": {
      "text/plain": [
       "ROBO DE OBJETOS                                129\n",
       "FRAUDE                                          90\n",
       "VIOLENCIA FAMILIAR                              89\n",
       "AMENAZAS                                        82\n",
       "ROBO DE OBJETOS DEL INTERIOR DE UN VEHICULO     68\n",
       "ROBO A NEGOCIO SIN VIOLENCIA POR FARDEROS       40\n",
       "ROBO A NEGOCIO SIN VIOLENCIA                    36\n",
       "Name: delito, dtype: int64"
      ]
     },
     "execution_count": 50,
     "metadata": {},
     "output_type": "execute_result"
    }
   ],
   "source": [
    "#Los 7 delitos mas comunes en la colonia obtenida en el inciso anterior\n",
    "df[df['colonia_datos']=='PASEOS DE CHURUBUSCO']['delito'].value_counts().head(7)"
   ]
  },
  {
   "cell_type": "code",
   "execution_count": 51,
   "metadata": {},
   "outputs": [
    {
     "data": {
      "text/plain": [
       "Mayo    20885\n",
       "Name: mes_hechos, dtype: int64"
      ]
     },
     "execution_count": 51,
     "metadata": {},
     "output_type": "execute_result"
    }
   ],
   "source": [
    "#El mes con mas delitos de 2022 (usar columna 'mes_hechos')\n",
    "df[df['ao_hechos']==2022]['mes_hechos'].value_counts().head(1)"
   ]
  },
  {
   "cell_type": "code",
   "execution_count": 52,
   "metadata": {},
   "outputs": [
    {
     "name": "stderr",
     "output_type": "stream",
     "text": [
      "C:\\Users\\javar\\AppData\\Local\\Temp\\ipykernel_11076\\2873971271.py:2: UserWarning: Boolean Series key will be reindexed to match DataFrame index.\n",
      "  df[df['alcaldia_hechos']!='CDMX'][df['alcaldia_hechos']!='FUERA DE CDMX']['alcaldia_hechos'].value_counts().tail(1)\n"
     ]
    },
    {
     "data": {
      "text/plain": [
       "MILPA ALTA    2903\n",
       "Name: alcaldia_hechos, dtype: int64"
      ]
     },
     "execution_count": 52,
     "metadata": {},
     "output_type": "execute_result"
    }
   ],
   "source": [
    "#La alcaldia con menos delitos registrados en todo el dataset (ignorar \"FUERA DE CDMX\" y \"CDMX\")\n",
    "df[df['alcaldia_hechos']!='CDMX'][df['alcaldia_hechos']!='FUERA DE CDMX']['alcaldia_hechos'].value_counts().tail(1)"
   ]
  },
  {
   "cell_type": "code",
   "execution_count": 53,
   "metadata": {},
   "outputs": [
    {
     "data": {
      "text/plain": [
       "IZTAPALAPA    3\n",
       "Name: alcaldia_hechos, dtype: int64"
      ]
     },
     "execution_count": 53,
     "metadata": {},
     "output_type": "execute_result"
    }
   ],
   "source": [
    "#Alcaldia con mas delitos de \"BIGAMIA\" en todo el set de datos\n",
    "df[df['delito']=='BIGAMIA']['alcaldia_hechos'].value_counts().head(1)"
   ]
  },
  {
   "cell_type": "code",
   "execution_count": 54,
   "metadata": {},
   "outputs": [
    {
     "name": "stderr",
     "output_type": "stream",
     "text": [
      "C:\\Users\\javar\\AppData\\Local\\Temp\\ipykernel_11076\\267022652.py:2: UserWarning: Boolean Series key will be reindexed to match DataFrame index.\n",
      "  df[df['ao_hechos']==2022][df['delito']=='EXTORSION']['alcaldia_hechos'].value_counts().head(1)\n"
     ]
    },
    {
     "data": {
      "text/plain": [
       "IZTAPALAPA    58\n",
       "Name: alcaldia_hechos, dtype: int64"
      ]
     },
     "execution_count": 54,
     "metadata": {},
     "output_type": "execute_result"
    }
   ],
   "source": [
    "#La alcaldia con mas casos de \"EXTORSION\" en 2022 usar columna \"ao_hechos\"\n",
    "df[df['ao_hechos']==2022][df['delito']=='EXTORSION']['alcaldia_hechos'].value_counts().head(1)"
   ]
  },
  {
   "cell_type": "code",
   "execution_count": 55,
   "metadata": {},
   "outputs": [
    {
     "name": "stderr",
     "output_type": "stream",
     "text": [
      "C:\\Users\\javar\\AppData\\Local\\Temp\\ipykernel_11076\\3558926920.py:5: UserWarning: Boolean Series key will be reindexed to match DataFrame index.\n",
      "  df[df['ao_hechos']==2023][df['delito']=='ROBO A TRANSEUNTE EN VIA PUBLICA CON VIOLENCIA'][df['alcaldia_hechos']=='IZTAPALAPA']['dia_semana'].value_counts().head(1)\n"
     ]
    },
    {
     "data": {
      "text/plain": [
       "Thursday    17\n",
       "Name: dia_semana, dtype: int64"
      ]
     },
     "execution_count": 55,
     "metadata": {},
     "output_type": "execute_result"
    }
   ],
   "source": [
    "#El dia de la semana donde mas ROBO A TRANSEUNTE EN VIA PUBLICA CON VIOLENCIA hubo en Iztapalapa en el año 2023\n",
    "#(usar como referencia la columna de fecha hechos)\n",
    "#van a tener que crear uan columna nueva para saber el dia de la semana, guiño guiño\n",
    "df['dia_semana']=pd.to_datetime(df['fecha_hechos']).dt.day_name()\n",
    "df[df['ao_hechos']==2023][df['delito']=='ROBO A TRANSEUNTE EN VIA PUBLICA CON VIOLENCIA'][df['alcaldia_hechos']=='IZTAPALAPA']['dia_semana'].value_counts().head(1)\n"
   ]
  },
  {
   "cell_type": "code",
   "execution_count": 56,
   "metadata": {},
   "outputs": [
    {
     "name": "stderr",
     "output_type": "stream",
     "text": [
      "C:\\Users\\javar\\AppData\\Local\\Temp\\ipykernel_11076\\2809267156.py:2: UserWarning: Boolean Series key will be reindexed to match DataFrame index.\n",
      "  df[df['ao_hechos']==2023][df['delito']=='ROBO A TRANSEUNTE EN VIA PUBLICA CON VIOLENCIA'][df['alcaldia_hechos']=='IZTAPALAPA'][df['dia_semana']=='Thursday']['colonia_datos'].value_counts().head(1)\n"
     ]
    },
    {
     "data": {
      "text/plain": [
       "CONSEJO AGRARISTA MEXICANO II    2\n",
       "Name: colonia_datos, dtype: int64"
      ]
     },
     "execution_count": 56,
     "metadata": {},
     "output_type": "execute_result"
    }
   ],
   "source": [
    "#En que colonias de Iztapalapa ocurrieron los robos en el dia con mas robos?\n",
    "df[df['ao_hechos']==2023][df['delito']=='ROBO A TRANSEUNTE EN VIA PUBLICA CON VIOLENCIA'][df['alcaldia_hechos']=='IZTAPALAPA'][df['dia_semana']=='Thursday']['colonia_datos'].value_counts().head(1)"
   ]
  },
  {
   "cell_type": "code",
   "execution_count": 57,
   "metadata": {},
   "outputs": [
    {
     "name": "stderr",
     "output_type": "stream",
     "text": [
      "C:\\Users\\javar\\AppData\\Local\\Temp\\ipykernel_11076\\67213126.py:4: UserWarning: Boolean Series key will be reindexed to match DataFrame index.\n",
      "  df[df['ao_hechos']==2022][df['dia_mes']==1]['alcaldia_hechos'].value_counts().head(10)\n"
     ]
    },
    {
     "data": {
      "text/plain": [
       "IZTAPALAPA             1312\n",
       "CUAUHTEMOC             1272\n",
       "GUSTAVO A. MADERO       855\n",
       "BENITO JUAREZ           597\n",
       "COYOACAN                591\n",
       "ALVARO OBREGON          579\n",
       "MIGUEL HIDALGO          537\n",
       "TLALPAN                 474\n",
       "VENUSTIANO CARRANZA     443\n",
       "AZCAPOTZALCO            414\n",
       "Name: alcaldia_hechos, dtype: int64"
      ]
     },
     "execution_count": 57,
     "metadata": {},
     "output_type": "execute_result"
    }
   ],
   "source": [
    "#Asumiendo que vivimos en un mundo donde se paga los dias 1 y 15 de cada mes, determinar que \n",
    "#alcaldia vio mas delitos durante dias de paga de quincena en el año 2022\n",
    "df['dia_mes']=pd.to_datetime(df['fecha_hechos']).dt.day\n",
    "df[df['ao_hechos']==2022][df['dia_mes']==1]['alcaldia_hechos'].value_counts().head(10)\n"
   ]
  },
  {
   "cell_type": "code",
   "execution_count": 58,
   "metadata": {},
   "outputs": [
    {
     "name": "stderr",
     "output_type": "stream",
     "text": [
      "C:\\Users\\javar\\AppData\\Local\\Temp\\ipykernel_11076\\1696434399.py:2: UserWarning: Boolean Series key will be reindexed to match DataFrame index.\n",
      "  df[df['ao_hechos']==2022][df['dia_mes']==1][df['alcaldia_hechos']=='IZTAPALAPA']['colonia_datos'].value_counts().head(5)\n"
     ]
    },
    {
     "data": {
      "text/plain": [
       "PASEOS DE CHURUBUSCO             28\n",
       "EJTO CONSTITUCIONALISTA          24\n",
       "SANTA MARTHA ACATITLA_(PBLO)     19\n",
       "SAN MIGUEL (BARR)                19\n",
       "LEYES DE REFORMA 3A SECCION I    17\n",
       "Name: colonia_datos, dtype: int64"
      ]
     },
     "execution_count": 58,
     "metadata": {},
     "output_type": "execute_result"
    }
   ],
   "source": [
    "#Cuales son las 5 colonias que mas delitos vieron en dias de quincena en el año 2022 en la alcaldia resultante de la celda anterior?\n",
    "df[df['ao_hechos']==2022][df['dia_mes']==1][df['alcaldia_hechos']=='IZTAPALAPA']['colonia_datos'].value_counts().head(5)"
   ]
  }
 ],
 "metadata": {
  "kernelspec": {
   "display_name": "Python 3",
   "language": "python",
   "name": "python3"
  },
  "language_info": {
   "codemirror_mode": {
    "name": "ipython",
    "version": 3
   },
   "file_extension": ".py",
   "mimetype": "text/x-python",
   "name": "python",
   "nbconvert_exporter": "python",
   "pygments_lexer": "ipython3",
   "version": "3.10.11"
  },
  "orig_nbformat": 4,
  "vscode": {
   "interpreter": {
    "hash": "949777d72b0d2535278d3dc13498b2535136f6dfe0678499012e853ee9abcab1"
   }
  }
 },
 "nbformat": 4,
 "nbformat_minor": 2
}
