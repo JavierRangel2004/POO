{
 "cells": [
  {
   "cell_type": "code",
   "execution_count": null,
   "metadata": {},
   "outputs": [],
   "source": [
    "def busqueda(termino,radio,latitud,longitud):\n",
    "    import requests\n",
    "    import pandas as pd\n",
    "    url=f\"https://www.inegi.org.mx/app/api/denue/v1/consulta/Buscar/{termino}/{latitud},{longitud}/{radio}/ef0379a9-c973-4d82-9372-04a008fb56b0\"\n",
    "    response=requests.get(url)\n",
    "    return pd.DataFrame(response.json())\n",
    "    #mapa donde ponga un marcador en la Universidad Panamericana y graficar con un heatmap el resto de los locales"
   ]
  },
  {
   "cell_type": "code",
   "execution_count": null,
   "metadata": {},
   "outputs": [],
   "source": [
    "resultados=busqueda(\"tortas\",5000,19.362765597662516, -99.16086697553385)\n",
    "resultados"
   ]
  }
 ],
 "metadata": {
  "kernelspec": {
   "display_name": "Python 3",
   "language": "python",
   "name": "python3"
  },
  "language_info": {
   "codemirror_mode": {
    "name": "ipython",
    "version": 3
   },
   "file_extension": ".py",
   "mimetype": "text/x-python",
   "name": "python",
   "nbconvert_exporter": "python",
   "pygments_lexer": "ipython3",
   "version": "3.11.2"
  },
  "orig_nbformat": 4
 },
 "nbformat": 4,
 "nbformat_minor": 2
}
