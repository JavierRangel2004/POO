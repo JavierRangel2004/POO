{
 "cells": [
  {
   "cell_type": "code",
   "execution_count": null,
   "metadata": {},
   "outputs": [],
   "source": [
    "import pandas as pd\n",
    "import plotly_express as px\n",
    "df=pd.read_csv(\"carpetas_2022.csv\")\n",
    "df=df.head(200)\n",
    "px.pie(df,names=\"alcaldia_hechos\")\n"
   ]
  },
  {
   "cell_type": "code",
   "execution_count": null,
   "metadata": {},
   "outputs": [],
   "source": [
    "contro =[19.432826, -99.133267]\n",
    "import folium\n",
    "map=folium.Map(location=contro,zoom_start=10,tiles=\"cartodbpositron\", attr = \"My Data Attribution\")\n",
    "map"
   ]
  },
  {
   "cell_type": "code",
   "execution_count": null,
   "metadata": {},
   "outputs": [],
   "source": [
    "subset=df.head(50)\n",
    "#for i in range(0,len(subset)):\n",
    "#    folium.Marker([subset.iloc[i]['latitud'], subset.iloc[i]['longitud']], popup=subset.iloc[i]['alcaldia_hechos']).add_to(map)\n",
    "for delito,lat,lon in zip(subset[\"delito\"],subset[\"latitud\"],subset[\"longitud\"]):\n",
    "    folium.Marker([lat,lon],popup=delito,tooltip=\"Picale aqui\").add_to(map)\n",
    "map"
   ]
  },
  {
   "cell_type": "code",
   "execution_count": null,
   "metadata": {},
   "outputs": [],
   "source": [
    "up=[19.37312515647209, -99.18375289053344]\n",
    "#mostrar delitos 200 metros a la redonda\n",
    "\n",
    "folium.Circle(location=up,radius=500,fill_color=r'red').add_to(map)\n",
    "folium.Marker(location=up,icon=folium.Icon(color=\"green\",icon='info-sign'),popup='UP').add_to(map)\n",
    "map"
   ]
  }
 ],
 "metadata": {
  "kernelspec": {
   "display_name": "Python 3",
   "language": "python",
   "name": "python3"
  },
  "language_info": {
   "codemirror_mode": {
    "name": "ipython",
    "version": 3
   },
   "file_extension": ".py",
   "mimetype": "text/x-python",
   "name": "python",
   "nbconvert_exporter": "python",
   "pygments_lexer": "ipython3",
   "version": "3.11.2"
  },
  "orig_nbformat": 4
 },
 "nbformat": 4,
 "nbformat_minor": 2
}
