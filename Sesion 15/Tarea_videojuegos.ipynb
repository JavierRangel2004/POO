{
 "cells": [
  {
   "cell_type": "code",
   "execution_count": null,
   "metadata": {},
   "outputs": [],
   "source": [
    "import pandas as pd\n",
    "import ssl\n",
    "ssl._create_default_https_context = ssl._create_unverified_context\n",
    "df=pd.read_csv(\"https://raw.githubusercontent.com/irojasgo/oop_python/main/vgsales.csv\")\n",
    "df.to_csv(\"vgsales.csv\",index=False)"
   ]
  },
  {
   "cell_type": "code",
   "execution_count": null,
   "metadata": {},
   "outputs": [],
   "source": [
    "#El nombre del juego mas vendido de todos (global sales)\n",
    "df[df[\"Global_Sales\"]==df[\"Global_Sales\"].max()][\"Name\"]"
   ]
  },
  {
   "cell_type": "code",
   "execution_count": null,
   "metadata": {},
   "outputs": [],
   "source": [
    "#la cantidad total de juegos de deportes (Sports)\n",
    "df[df[\"Genre\"]==\"Sports\"].count()[\"Name\"]"
   ]
  },
  {
   "cell_type": "code",
   "execution_count": null,
   "metadata": {},
   "outputs": [],
   "source": [
    "#El juego mas vendido en japon\n",
    "df[df[\"JP_Sales\"]==df[\"JP_Sales\"].max()][\"Name\"]"
   ]
  },
  {
   "cell_type": "code",
   "execution_count": null,
   "metadata": {},
   "outputs": [],
   "source": [
    "#EL juego menos vendido en japon\n",
    "df[df[\"JP_Sales\"]==df[\"JP_Sales\"].min()]['Name']"
   ]
  },
  {
   "cell_type": "code",
   "execution_count": null,
   "metadata": {},
   "outputs": [],
   "source": [
    "#Los juegos que salieron en el primer año disponible del set de datos\n",
    "df[df[\"Year\"]==df[\"Year\"].min()][\"Name\"]"
   ]
  },
  {
   "cell_type": "code",
   "execution_count": null,
   "metadata": {},
   "outputs": [],
   "source": [
    "#la plataforma con mas ventas promedio en el mundo\n",
    "df.groupby(\"Platform\").mean()[\"Global_Sales\"].sort_values(ascending=False).head(1)"
   ]
  },
  {
   "cell_type": "code",
   "execution_count": null,
   "metadata": {},
   "outputs": [],
   "source": [
    "#la plataforma con mas ventas en total en europa\n",
    "df.groupby(\"Platform\").sum()[\"EU_Sales\"].sort_values(ascending=False).head(1)"
   ]
  },
  {
   "cell_type": "code",
   "execution_count": null,
   "metadata": {},
   "outputs": [],
   "source": [
    "#Imprime el nombre de los 5 juegos mas vendidos en todo el mundo por plataforma\n",
    "df.groupby(\"Platform\").sum()[\"Global_Sales\"]"
   ]
  },
  {
   "cell_type": "code",
   "execution_count": null,
   "metadata": {},
   "outputs": [],
   "source": [
    "#los 5 juegos mas vendidos en todo el mundo por plataforma\n",
    "platforms=[platform for platform in df[\"Platform\"].unique()]\n",
    "for platform in platforms:\n",
    "    df[df[\"Platform\"]==platform].sort_values(ascending=False,by=\"Global_Sales\").head(5)"
   ]
  },
  {
   "cell_type": "code",
   "execution_count": null,
   "metadata": {},
   "outputs": [],
   "source": [
    "#los 5 juegos menos vendidos en todo el mundo por plataforma\n",
    "platforms=[platform for platform in df[\"Platform\"].unique()]\n",
    "for platform in platforms:\n",
    "    df[df[\"Platform\"]==platform].sort_values(by=\"Global_Sales\").head(5)"
   ]
  },
  {
   "cell_type": "code",
   "execution_count": null,
   "metadata": {},
   "outputs": [],
   "source": [
    "#La plataforma con mas juegos en el dataset\n",
    "df.groupby(\"Platform\").count()[\"Name\"].sort_values(ascending=False).head(1)"
   ]
  },
  {
   "cell_type": "code",
   "execution_count": null,
   "metadata": {},
   "outputs": [],
   "source": [
    "#el genero de juegos mas vendido en japon\n",
    "df.groupby(\"Genre\").sum()[\"JP_Sales\"].sort_values(ascending=False).head(1)"
   ]
  },
  {
   "cell_type": "code",
   "execution_count": null,
   "metadata": {},
   "outputs": [],
   "source": [
    "#el genero de juegos mas vendido en estados unidos\n",
    "df.groupby(\"Genre\").sum()[\"NA_Sales\"].sort_values(ascending=False).head(1)"
   ]
  },
  {
   "cell_type": "code",
   "execution_count": null,
   "metadata": {},
   "outputs": [],
   "source": [
    "import seaborn as sns\n",
    "sns.pairplot(df)"
   ]
  },
  {
   "cell_type": "code",
   "execution_count": null,
   "metadata": {},
   "outputs": [],
   "source": [
    "sns.scatterplot(x=df[\"JP_Sales\"],y=df[\"Global_Sales\"],hue=df[\"Platform\"])"
   ]
  },
  {
   "cell_type": "code",
   "execution_count": null,
   "metadata": {},
   "outputs": [],
   "source": [
    "sns.displot(df[\"Year\"])"
   ]
  },
  {
   "cell_type": "code",
   "execution_count": null,
   "metadata": {},
   "outputs": [],
   "source": [
    "sns.boxplot(df[\"Year\"])"
   ]
  },
  {
   "cell_type": "code",
   "execution_count": null,
   "metadata": {},
   "outputs": [],
   "source": [
    "sns.kdeplot(df[\"Year\"],fill=True,hue=df[\"Platform\"])"
   ]
  }
 ],
 "metadata": {
  "kernelspec": {
   "display_name": "Python 3",
   "language": "python",
   "name": "python3"
  },
  "language_info": {
   "codemirror_mode": {
    "name": "ipython",
    "version": 3
   },
   "file_extension": ".py",
   "mimetype": "text/x-python",
   "name": "python",
   "nbconvert_exporter": "python",
   "pygments_lexer": "ipython3",
   "version": "3.11.2"
  },
  "orig_nbformat": 4
 },
 "nbformat": 4,
 "nbformat_minor": 2
}
