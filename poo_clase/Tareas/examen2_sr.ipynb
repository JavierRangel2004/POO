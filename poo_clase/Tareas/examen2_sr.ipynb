{
 "cells": [
  {
   "cell_type": "code",
   "execution_count": null,
   "metadata": {},
   "outputs": [],
   "source": [
    "#Importar librerias y el set de datos que bajaron de Moodle (carpetas_2022.csv)\n",
    "import pandas as pd\n",
    "df=pd.read_csv('carpetas_2022.csv')"
   ]
  },
  {
   "cell_type": "code",
   "execution_count": null,
   "metadata": {},
   "outputs": [],
   "source": [
    "#Cuantas filas y columnas tiene el set de datos?\n",
    "df.shape"
   ]
  },
  {
   "cell_type": "code",
   "execution_count": null,
   "metadata": {},
   "outputs": [],
   "source": [
    "#Hay columnas con valores nulos?\n",
    "df.isnull().sum()"
   ]
  },
  {
   "cell_type": "code",
   "execution_count": null,
   "metadata": {},
   "outputs": [],
   "source": [
    "#NO TOCAR ESTA LINEA. ES PARA ELIMINAR VALORES NULOS EN UNA COLUMNA QUE USAREMOS ADELANTE\n",
    "#Llamen df a su dataframe, de lo contrario no va a jalar\n",
    "#Dropear REGISTROS que tengan \"ao_hechos\" nulo\n",
    "df.dropna(subset=['ao_hechos'], inplace=True)\n"
   ]
  },
  {
   "cell_type": "code",
   "execution_count": null,
   "metadata": {},
   "outputs": [],
   "source": [
    "#verificar que ya no existan registros nulos para \"ao_hechos\"\n",
    "df.isnull().sum()"
   ]
  },
  {
   "cell_type": "code",
   "execution_count": null,
   "metadata": {},
   "outputs": [],
   "source": [
    "#Cuantos tipos de delito se encuentran registrados en el set de datos (usar columna delito)\n",
    "df['delito'].unique()"
   ]
  },
  {
   "cell_type": "code",
   "execution_count": null,
   "metadata": {},
   "outputs": [],
   "source": [
    "#La alcaldia con mas delitos contando los años 2022 y 2023\n",
    "df['alcaldia_hechos'].value_counts().head(1)"
   ]
  },
  {
   "cell_type": "code",
   "execution_count": null,
   "metadata": {},
   "outputs": [],
   "source": [
    "#El delito mas frecuente en la alcaldia XOCHIMILCO (usar columna delito)\n",
    "df[df['alcaldia_hechos']=='XOCHIMILCO']['delito'].value_counts().head(1)"
   ]
  },
  {
   "cell_type": "code",
   "execution_count": null,
   "metadata": {},
   "outputs": [],
   "source": [
    "#La colonia con mas delitos de IZTAPALAPA en 2023\n",
    "df[df['ao_hechos']==2023][df['alcaldia_hechos']=='IZTAPALAPA']['colonia_datos'].value_counts().head(1)"
   ]
  },
  {
   "cell_type": "code",
   "execution_count": null,
   "metadata": {},
   "outputs": [],
   "source": [
    "#Los 7 delitos mas comunes en la colonia obtenida en el inciso anterior\n",
    "df[df['colonia_datos']=='PASEOS DE CHURUBUSCO']['delito'].value_counts().head(7)"
   ]
  },
  {
   "cell_type": "code",
   "execution_count": null,
   "metadata": {},
   "outputs": [],
   "source": [
    "#El mes con mas delitos de 2022 (usar columna 'mes_hechos')\n",
    "df[df['ao_hechos']==2022]['mes_hechos'].value_counts().head(1)"
   ]
  },
  {
   "cell_type": "code",
   "execution_count": null,
   "metadata": {},
   "outputs": [],
   "source": [
    "#La alcaldia con menos delitos registrados en todo el dataset (ignorar \"FUERA DE CDMX\" y \"CDMX\")\n",
    "df[df['alcaldia_hechos']!='CDMX'][df['alcaldia_hechos']!='FUERA DE CDMX']['alcaldia_hechos'].value_counts().tail(1)"
   ]
  },
  {
   "cell_type": "code",
   "execution_count": null,
   "metadata": {},
   "outputs": [],
   "source": [
    "#Alcaldia con mas delitos de \"BIGAMIA\" en todo el set de datos\n",
    "df[df['delito']=='BIGAMIA']['alcaldia_hechos'].value_counts().head(1)"
   ]
  },
  {
   "cell_type": "code",
   "execution_count": null,
   "metadata": {},
   "outputs": [],
   "source": [
    "#La alcaldia con mas casos de \"EXTORSION\" en 2022 usar columna \"ao_hechos\"\n",
    "df[df['ao_hechos']==2022][df['delito']=='EXTORSION']['alcaldia_hechos'].value_counts().head(1)"
   ]
  },
  {
   "cell_type": "code",
   "execution_count": null,
   "metadata": {},
   "outputs": [],
   "source": [
    "#El dia de la semana donde mas ROBO A TRANSEUNTE EN VIA PUBLICA CON VIOLENCIA hubo en Iztapalapa en el año 2023\n",
    "#(usar como referencia la columna de fecha hechos)\n",
    "#van a tener que crear uan columna nueva para saber el dia de la semana, guiño guiño\n",
    "df['dia_semana']=pd.to_datetime(df['fecha_hechos']).dt.day_name()\n",
    "df[df['ao_hechos']==2023][df['delito']=='ROBO A TRANSEUNTE EN VIA PUBLICA CON VIOLENCIA'][df['alcaldia_hechos']=='IZTAPALAPA']['dia_semana'].value_counts().head(1)\n"
   ]
  },
  {
   "cell_type": "code",
   "execution_count": null,
   "metadata": {},
   "outputs": [],
   "source": [
    "#En que colonias de Iztapalapa ocurrieron los robos en el dia con mas robos?\n",
    "df[df['ao_hechos']==2023][df['delito']=='ROBO A TRANSEUNTE EN VIA PUBLICA CON VIOLENCIA'][df['alcaldia_hechos']=='IZTAPALAPA'][df['dia_semana']=='Thursday']['colonia_datos'].value_counts().head(1)"
   ]
  },
  {
   "cell_type": "code",
   "execution_count": null,
   "metadata": {},
   "outputs": [],
   "source": [
    "#Asumiendo que vivimos en un mundo donde se paga los dias 1 y 15 de cada mes, determinar que \n",
    "#alcaldia vio mas delitos durante dias de paga de quincena en el año 2022\n",
    "df['dia_mes']=pd.to_datetime(df['fecha_hechos']).dt.day\n",
    "df[df['ao_hechos']==2022][df['dia_mes']==1]['alcaldia_hechos'].value_counts().head(10)\n"
   ]
  },
  {
   "cell_type": "code",
   "execution_count": null,
   "metadata": {},
   "outputs": [],
   "source": [
    "#Cuales son las 5 colonias que mas delitos vieron en dias de quincena en el año 2022 en la alcaldia resultante de la celda anterior?\n",
    "df[df['ao_hechos']==2022][df['dia_mes']==1][df['alcaldia_hechos']=='IZTAPALAPA']['colonia_datos'].value_counts().head(5)"
   ]
  }
 ],
 "metadata": {
  "kernelspec": {
   "display_name": "Python 3",
   "language": "python",
   "name": "python3"
  },
  "language_info": {
   "codemirror_mode": {
    "name": "ipython",
    "version": 3
   },
   "file_extension": ".py",
   "mimetype": "text/x-python",
   "name": "python",
   "nbconvert_exporter": "python",
   "pygments_lexer": "ipython3",
   "version": "3.10.11"
  },
  "orig_nbformat": 4,
  "vscode": {
   "interpreter": {
    "hash": "949777d72b0d2535278d3dc13498b2535136f6dfe0678499012e853ee9abcab1"
   }
  }
 },
 "nbformat": 4,
 "nbformat_minor": 2
}
